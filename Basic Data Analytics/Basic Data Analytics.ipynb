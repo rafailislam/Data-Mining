{
 "cells": [
  {
   "cell_type": "code",
   "execution_count": 1,
   "metadata": {},
   "outputs": [],
   "source": [
    "'''\n",
    "Program: Rafail_hw1.ipynb\n",
    "Author: Rafail Islam\n",
    "CSC 635, Data Mining\n",
    "'''\n",
    "import matplotlib.pyplot as plt\n",
    "import pandas as pd"
   ]
  },
  {
   "cell_type": "code",
   "execution_count": 2,
   "metadata": {},
   "outputs": [],
   "source": [
    "# 1. Load the data in a DataFrame (DF) named tips.\n",
    "tips = pd.read_csv(\"tips.csv\")"
   ]
  },
  {
   "cell_type": "code",
   "execution_count": 3,
   "metadata": {},
   "outputs": [
    {
     "data": {
      "text/plain": [
       "Index(['total_bill', 'tip', 'sex', 'smoker', 'day', 'time', 'size'], dtype='object')"
      ]
     },
     "execution_count": 3,
     "metadata": {},
     "output_type": "execute_result"
    }
   ],
   "source": [
    "# 2. Find the names of the columns.  \n",
    "tips.columns"
   ]
  },
  {
   "cell_type": "code",
   "execution_count": 4,
   "metadata": {},
   "outputs": [],
   "source": [
    "# 3. Rename the columns “time” as “meal” and “size” as “party size”. \n",
    "tips.rename(columns = {'time':'meal','size':'party size'}, inplace = True) "
   ]
  },
  {
   "cell_type": "code",
   "execution_count": 5,
   "metadata": {},
   "outputs": [
    {
     "data": {
      "text/html": [
       "<div>\n",
       "<style scoped>\n",
       "    .dataframe tbody tr th:only-of-type {\n",
       "        vertical-align: middle;\n",
       "    }\n",
       "\n",
       "    .dataframe tbody tr th {\n",
       "        vertical-align: top;\n",
       "    }\n",
       "\n",
       "    .dataframe thead th {\n",
       "        text-align: right;\n",
       "    }\n",
       "</style>\n",
       "<table border=\"1\" class=\"dataframe\">\n",
       "  <thead>\n",
       "    <tr style=\"text-align: right;\">\n",
       "      <th></th>\n",
       "      <th>total_bill</th>\n",
       "      <th>tip</th>\n",
       "      <th>sex</th>\n",
       "      <th>smoker</th>\n",
       "      <th>day</th>\n",
       "      <th>meal</th>\n",
       "      <th>party size</th>\n",
       "    </tr>\n",
       "  </thead>\n",
       "  <tbody>\n",
       "    <tr>\n",
       "      <th>0</th>\n",
       "      <td>16.99</td>\n",
       "      <td>1.01</td>\n",
       "      <td>Female</td>\n",
       "      <td>No</td>\n",
       "      <td>Sun</td>\n",
       "      <td>Dinner</td>\n",
       "      <td>2</td>\n",
       "    </tr>\n",
       "    <tr>\n",
       "      <th>1</th>\n",
       "      <td>10.34</td>\n",
       "      <td>1.66</td>\n",
       "      <td>Male</td>\n",
       "      <td>No</td>\n",
       "      <td>Sun</td>\n",
       "      <td>Dinner</td>\n",
       "      <td>3</td>\n",
       "    </tr>\n",
       "    <tr>\n",
       "      <th>2</th>\n",
       "      <td>21.01</td>\n",
       "      <td>3.50</td>\n",
       "      <td>Male</td>\n",
       "      <td>No</td>\n",
       "      <td>Sun</td>\n",
       "      <td>Dinner</td>\n",
       "      <td>3</td>\n",
       "    </tr>\n",
       "    <tr>\n",
       "      <th>3</th>\n",
       "      <td>23.68</td>\n",
       "      <td>3.31</td>\n",
       "      <td>Male</td>\n",
       "      <td>No</td>\n",
       "      <td>Sun</td>\n",
       "      <td>Dinner</td>\n",
       "      <td>2</td>\n",
       "    </tr>\n",
       "    <tr>\n",
       "      <th>4</th>\n",
       "      <td>24.59</td>\n",
       "      <td>3.61</td>\n",
       "      <td>Female</td>\n",
       "      <td>No</td>\n",
       "      <td>Sun</td>\n",
       "      <td>Dinner</td>\n",
       "      <td>4</td>\n",
       "    </tr>\n",
       "  </tbody>\n",
       "</table>\n",
       "</div>"
      ],
      "text/plain": [
       "   total_bill   tip     sex smoker  day    meal  party size\n",
       "0       16.99  1.01  Female     No  Sun  Dinner           2\n",
       "1       10.34  1.66    Male     No  Sun  Dinner           3\n",
       "2       21.01  3.50    Male     No  Sun  Dinner           3\n",
       "3       23.68  3.31    Male     No  Sun  Dinner           2\n",
       "4       24.59  3.61  Female     No  Sun  Dinner           4"
      ]
     },
     "execution_count": 5,
     "metadata": {},
     "output_type": "execute_result"
    }
   ],
   "source": [
    "# 4. Use the head function to view parts of the data.\n",
    "tips.head(5)"
   ]
  },
  {
   "cell_type": "code",
   "execution_count": 6,
   "metadata": {},
   "outputs": [
    {
     "data": {
      "text/html": [
       "<div>\n",
       "<style scoped>\n",
       "    .dataframe tbody tr th:only-of-type {\n",
       "        vertical-align: middle;\n",
       "    }\n",
       "\n",
       "    .dataframe tbody tr th {\n",
       "        vertical-align: top;\n",
       "    }\n",
       "\n",
       "    .dataframe thead th {\n",
       "        text-align: right;\n",
       "    }\n",
       "</style>\n",
       "<table border=\"1\" class=\"dataframe\">\n",
       "  <thead>\n",
       "    <tr style=\"text-align: right;\">\n",
       "      <th></th>\n",
       "      <th>total_bill</th>\n",
       "      <th>tip</th>\n",
       "      <th>sex</th>\n",
       "      <th>smoker</th>\n",
       "      <th>day</th>\n",
       "      <th>meal</th>\n",
       "      <th>party size</th>\n",
       "    </tr>\n",
       "  </thead>\n",
       "  <tbody>\n",
       "    <tr>\n",
       "      <th>0</th>\n",
       "      <td>16.99</td>\n",
       "      <td>1.01</td>\n",
       "      <td>Female</td>\n",
       "      <td>No</td>\n",
       "      <td>Sun</td>\n",
       "      <td>Dinner</td>\n",
       "      <td>2</td>\n",
       "    </tr>\n",
       "    <tr>\n",
       "      <th>1</th>\n",
       "      <td>10.34</td>\n",
       "      <td>1.66</td>\n",
       "      <td>Male</td>\n",
       "      <td>No</td>\n",
       "      <td>Sun</td>\n",
       "      <td>Dinner</td>\n",
       "      <td>3</td>\n",
       "    </tr>\n",
       "  </tbody>\n",
       "</table>\n",
       "</div>"
      ],
      "text/plain": [
       "   total_bill   tip     sex smoker  day    meal  party size\n",
       "0       16.99  1.01  Female     No  Sun  Dinner           2\n",
       "1       10.34  1.66    Male     No  Sun  Dinner           3"
      ]
     },
     "execution_count": 6,
     "metadata": {},
     "output_type": "execute_result"
    }
   ],
   "source": [
    "# 5. Retrieve the information in the second and third rows using two different methods\n",
    "tips.loc[:1]"
   ]
  },
  {
   "cell_type": "code",
   "execution_count": 7,
   "metadata": {},
   "outputs": [
    {
     "data": {
      "text/html": [
       "<div>\n",
       "<style scoped>\n",
       "    .dataframe tbody tr th:only-of-type {\n",
       "        vertical-align: middle;\n",
       "    }\n",
       "\n",
       "    .dataframe tbody tr th {\n",
       "        vertical-align: top;\n",
       "    }\n",
       "\n",
       "    .dataframe thead th {\n",
       "        text-align: right;\n",
       "    }\n",
       "</style>\n",
       "<table border=\"1\" class=\"dataframe\">\n",
       "  <thead>\n",
       "    <tr style=\"text-align: right;\">\n",
       "      <th></th>\n",
       "      <th>total_bill</th>\n",
       "      <th>tip</th>\n",
       "      <th>sex</th>\n",
       "      <th>smoker</th>\n",
       "      <th>day</th>\n",
       "      <th>meal</th>\n",
       "      <th>party size</th>\n",
       "    </tr>\n",
       "  </thead>\n",
       "  <tbody>\n",
       "    <tr>\n",
       "      <th>0</th>\n",
       "      <td>16.99</td>\n",
       "      <td>1.01</td>\n",
       "      <td>Female</td>\n",
       "      <td>No</td>\n",
       "      <td>Sun</td>\n",
       "      <td>Dinner</td>\n",
       "      <td>2</td>\n",
       "    </tr>\n",
       "    <tr>\n",
       "      <th>1</th>\n",
       "      <td>10.34</td>\n",
       "      <td>1.66</td>\n",
       "      <td>Male</td>\n",
       "      <td>No</td>\n",
       "      <td>Sun</td>\n",
       "      <td>Dinner</td>\n",
       "      <td>3</td>\n",
       "    </tr>\n",
       "  </tbody>\n",
       "</table>\n",
       "</div>"
      ],
      "text/plain": [
       "   total_bill   tip     sex smoker  day    meal  party size\n",
       "0       16.99  1.01  Female     No  Sun  Dinner           2\n",
       "1       10.34  1.66    Male     No  Sun  Dinner           3"
      ]
     },
     "execution_count": 7,
     "metadata": {},
     "output_type": "execute_result"
    }
   ],
   "source": [
    "# 5. Retrieve the information in the second and third rows using two different methods\n",
    "tips.iloc[:2]"
   ]
  },
  {
   "cell_type": "code",
   "execution_count": 8,
   "metadata": {},
   "outputs": [
    {
     "data": {
      "text/html": [
       "<div>\n",
       "<style scoped>\n",
       "    .dataframe tbody tr th:only-of-type {\n",
       "        vertical-align: middle;\n",
       "    }\n",
       "\n",
       "    .dataframe tbody tr th {\n",
       "        vertical-align: top;\n",
       "    }\n",
       "\n",
       "    .dataframe thead th {\n",
       "        text-align: right;\n",
       "    }\n",
       "</style>\n",
       "<table border=\"1\" class=\"dataframe\">\n",
       "  <thead>\n",
       "    <tr style=\"text-align: right;\">\n",
       "      <th></th>\n",
       "      <th>total_bill</th>\n",
       "      <th>tip</th>\n",
       "      <th>sex</th>\n",
       "      <th>smoker</th>\n",
       "      <th>day</th>\n",
       "      <th>meal</th>\n",
       "      <th>party size</th>\n",
       "    </tr>\n",
       "  </thead>\n",
       "  <tbody>\n",
       "    <tr>\n",
       "      <th>0</th>\n",
       "      <td>16.99</td>\n",
       "      <td>1.01</td>\n",
       "      <td>Female</td>\n",
       "      <td>No</td>\n",
       "      <td>Sun</td>\n",
       "      <td>Dinner</td>\n",
       "      <td>2</td>\n",
       "    </tr>\n",
       "    <tr>\n",
       "      <th>1</th>\n",
       "      <td>10.34</td>\n",
       "      <td>1.66</td>\n",
       "      <td>Male</td>\n",
       "      <td>No</td>\n",
       "      <td>Sun</td>\n",
       "      <td>Dinner</td>\n",
       "      <td>3</td>\n",
       "    </tr>\n",
       "  </tbody>\n",
       "</table>\n",
       "</div>"
      ],
      "text/plain": [
       "   total_bill   tip     sex smoker  day    meal  party size\n",
       "0       16.99  1.01  Female     No  Sun  Dinner           2\n",
       "1       10.34  1.66    Male     No  Sun  Dinner           3"
      ]
     },
     "execution_count": 8,
     "metadata": {},
     "output_type": "execute_result"
    }
   ],
   "source": [
    "# 5. Retrieve the information in the second and third rows using two different methods\n",
    "tips[:2]"
   ]
  },
  {
   "cell_type": "code",
   "execution_count": 9,
   "metadata": {},
   "outputs": [
    {
     "data": {
      "text/html": [
       "<div>\n",
       "<style scoped>\n",
       "    .dataframe tbody tr th:only-of-type {\n",
       "        vertical-align: middle;\n",
       "    }\n",
       "\n",
       "    .dataframe tbody tr th {\n",
       "        vertical-align: top;\n",
       "    }\n",
       "\n",
       "    .dataframe thead th {\n",
       "        text-align: right;\n",
       "    }\n",
       "</style>\n",
       "<table border=\"1\" class=\"dataframe\">\n",
       "  <thead>\n",
       "    <tr style=\"text-align: right;\">\n",
       "      <th></th>\n",
       "      <th>total_bill</th>\n",
       "      <th>tip</th>\n",
       "    </tr>\n",
       "  </thead>\n",
       "  <tbody>\n",
       "    <tr>\n",
       "      <th>0</th>\n",
       "      <td>16.99</td>\n",
       "      <td>1.01</td>\n",
       "    </tr>\n",
       "    <tr>\n",
       "      <th>1</th>\n",
       "      <td>10.34</td>\n",
       "      <td>1.66</td>\n",
       "    </tr>\n",
       "    <tr>\n",
       "      <th>2</th>\n",
       "      <td>21.01</td>\n",
       "      <td>3.50</td>\n",
       "    </tr>\n",
       "  </tbody>\n",
       "</table>\n",
       "</div>"
      ],
      "text/plain": [
       "   total_bill   tip\n",
       "0       16.99  1.01\n",
       "1       10.34  1.66\n",
       "2       21.01  3.50"
      ]
     },
     "execution_count": 9,
     "metadata": {},
     "output_type": "execute_result"
    }
   ],
   "source": [
    "# 6. Retrieve the information in the first and second columns (i.e., under total_bill and tip). Use the head function to display the first three rows under these two columns.\n",
    "tips[['total_bill','tip']].head(3)"
   ]
  },
  {
   "cell_type": "code",
   "execution_count": 10,
   "metadata": {},
   "outputs": [
    {
     "data": {
      "text/plain": [
       "sex    Male\n",
       "Name: 1, dtype: object"
      ]
     },
     "execution_count": 10,
     "metadata": {},
     "output_type": "execute_result"
    }
   ],
   "source": [
    "# 7. Get the information stored in the cell at the intersection of the second row and third column.\n",
    "tips.iloc[1,[2]]\n",
    "#tips.loc[1,['sex']]"
   ]
  },
  {
   "cell_type": "code",
   "execution_count": 11,
   "metadata": {},
   "outputs": [
    {
     "name": "stdout",
     "output_type": "stream",
     "text": [
      "244\n",
      "244\n"
     ]
    }
   ],
   "source": [
    "# 8. Find the number of observations in the dataset.\n",
    "print(len(tips))\n",
    "print(tips.index.size)"
   ]
  },
  {
   "cell_type": "code",
   "execution_count": 12,
   "metadata": {},
   "outputs": [
    {
     "data": {
      "text/html": [
       "<div>\n",
       "<style scoped>\n",
       "    .dataframe tbody tr th:only-of-type {\n",
       "        vertical-align: middle;\n",
       "    }\n",
       "\n",
       "    .dataframe tbody tr th {\n",
       "        vertical-align: top;\n",
       "    }\n",
       "\n",
       "    .dataframe thead th {\n",
       "        text-align: right;\n",
       "    }\n",
       "</style>\n",
       "<table border=\"1\" class=\"dataframe\">\n",
       "  <thead>\n",
       "    <tr style=\"text-align: right;\">\n",
       "      <th></th>\n",
       "      <th>total_bill</th>\n",
       "      <th>tip</th>\n",
       "      <th>party size</th>\n",
       "    </tr>\n",
       "  </thead>\n",
       "  <tbody>\n",
       "    <tr>\n",
       "      <th>count</th>\n",
       "      <td>244.000000</td>\n",
       "      <td>244.000000</td>\n",
       "      <td>244.000000</td>\n",
       "    </tr>\n",
       "    <tr>\n",
       "      <th>mean</th>\n",
       "      <td>19.785943</td>\n",
       "      <td>2.998279</td>\n",
       "      <td>2.569672</td>\n",
       "    </tr>\n",
       "    <tr>\n",
       "      <th>std</th>\n",
       "      <td>8.902412</td>\n",
       "      <td>1.383638</td>\n",
       "      <td>0.951100</td>\n",
       "    </tr>\n",
       "    <tr>\n",
       "      <th>min</th>\n",
       "      <td>3.070000</td>\n",
       "      <td>1.000000</td>\n",
       "      <td>1.000000</td>\n",
       "    </tr>\n",
       "    <tr>\n",
       "      <th>25%</th>\n",
       "      <td>13.347500</td>\n",
       "      <td>2.000000</td>\n",
       "      <td>2.000000</td>\n",
       "    </tr>\n",
       "    <tr>\n",
       "      <th>50%</th>\n",
       "      <td>17.795000</td>\n",
       "      <td>2.900000</td>\n",
       "      <td>2.000000</td>\n",
       "    </tr>\n",
       "    <tr>\n",
       "      <th>75%</th>\n",
       "      <td>24.127500</td>\n",
       "      <td>3.562500</td>\n",
       "      <td>3.000000</td>\n",
       "    </tr>\n",
       "    <tr>\n",
       "      <th>max</th>\n",
       "      <td>50.810000</td>\n",
       "      <td>10.000000</td>\n",
       "      <td>6.000000</td>\n",
       "    </tr>\n",
       "  </tbody>\n",
       "</table>\n",
       "</div>"
      ],
      "text/plain": [
       "       total_bill         tip  party size\n",
       "count  244.000000  244.000000  244.000000\n",
       "mean    19.785943    2.998279    2.569672\n",
       "std      8.902412    1.383638    0.951100\n",
       "min      3.070000    1.000000    1.000000\n",
       "25%     13.347500    2.000000    2.000000\n",
       "50%     17.795000    2.900000    2.000000\n",
       "75%     24.127500    3.562500    3.000000\n",
       "max     50.810000   10.000000    6.000000"
      ]
     },
     "execution_count": 12,
     "metadata": {},
     "output_type": "execute_result"
    }
   ],
   "source": [
    "# 9. Use the describe function to get basic statistics about the numerical attributes.\n",
    "tips.describe()\n"
   ]
  },
  {
   "cell_type": "code",
   "execution_count": 13,
   "metadata": {},
   "outputs": [
    {
     "data": {
      "text/html": [
       "<div>\n",
       "<style scoped>\n",
       "    .dataframe tbody tr th:only-of-type {\n",
       "        vertical-align: middle;\n",
       "    }\n",
       "\n",
       "    .dataframe tbody tr th {\n",
       "        vertical-align: top;\n",
       "    }\n",
       "\n",
       "    .dataframe thead th {\n",
       "        text-align: right;\n",
       "    }\n",
       "</style>\n",
       "<table border=\"1\" class=\"dataframe\">\n",
       "  <thead>\n",
       "    <tr style=\"text-align: right;\">\n",
       "      <th></th>\n",
       "      <th>total_bill</th>\n",
       "      <th>tip</th>\n",
       "      <th>sex</th>\n",
       "      <th>smoker</th>\n",
       "      <th>day</th>\n",
       "      <th>meal</th>\n",
       "      <th>party size</th>\n",
       "    </tr>\n",
       "  </thead>\n",
       "  <tbody>\n",
       "    <tr>\n",
       "      <th>count</th>\n",
       "      <td>244.000000</td>\n",
       "      <td>244.000000</td>\n",
       "      <td>244</td>\n",
       "      <td>244</td>\n",
       "      <td>244</td>\n",
       "      <td>244</td>\n",
       "      <td>244.000000</td>\n",
       "    </tr>\n",
       "    <tr>\n",
       "      <th>unique</th>\n",
       "      <td>NaN</td>\n",
       "      <td>NaN</td>\n",
       "      <td>2</td>\n",
       "      <td>2</td>\n",
       "      <td>4</td>\n",
       "      <td>2</td>\n",
       "      <td>NaN</td>\n",
       "    </tr>\n",
       "    <tr>\n",
       "      <th>top</th>\n",
       "      <td>NaN</td>\n",
       "      <td>NaN</td>\n",
       "      <td>Male</td>\n",
       "      <td>No</td>\n",
       "      <td>Sat</td>\n",
       "      <td>Dinner</td>\n",
       "      <td>NaN</td>\n",
       "    </tr>\n",
       "    <tr>\n",
       "      <th>freq</th>\n",
       "      <td>NaN</td>\n",
       "      <td>NaN</td>\n",
       "      <td>157</td>\n",
       "      <td>151</td>\n",
       "      <td>87</td>\n",
       "      <td>176</td>\n",
       "      <td>NaN</td>\n",
       "    </tr>\n",
       "    <tr>\n",
       "      <th>mean</th>\n",
       "      <td>19.785943</td>\n",
       "      <td>2.998279</td>\n",
       "      <td>NaN</td>\n",
       "      <td>NaN</td>\n",
       "      <td>NaN</td>\n",
       "      <td>NaN</td>\n",
       "      <td>2.569672</td>\n",
       "    </tr>\n",
       "    <tr>\n",
       "      <th>std</th>\n",
       "      <td>8.902412</td>\n",
       "      <td>1.383638</td>\n",
       "      <td>NaN</td>\n",
       "      <td>NaN</td>\n",
       "      <td>NaN</td>\n",
       "      <td>NaN</td>\n",
       "      <td>0.951100</td>\n",
       "    </tr>\n",
       "    <tr>\n",
       "      <th>min</th>\n",
       "      <td>3.070000</td>\n",
       "      <td>1.000000</td>\n",
       "      <td>NaN</td>\n",
       "      <td>NaN</td>\n",
       "      <td>NaN</td>\n",
       "      <td>NaN</td>\n",
       "      <td>1.000000</td>\n",
       "    </tr>\n",
       "    <tr>\n",
       "      <th>25%</th>\n",
       "      <td>13.347500</td>\n",
       "      <td>2.000000</td>\n",
       "      <td>NaN</td>\n",
       "      <td>NaN</td>\n",
       "      <td>NaN</td>\n",
       "      <td>NaN</td>\n",
       "      <td>2.000000</td>\n",
       "    </tr>\n",
       "    <tr>\n",
       "      <th>50%</th>\n",
       "      <td>17.795000</td>\n",
       "      <td>2.900000</td>\n",
       "      <td>NaN</td>\n",
       "      <td>NaN</td>\n",
       "      <td>NaN</td>\n",
       "      <td>NaN</td>\n",
       "      <td>2.000000</td>\n",
       "    </tr>\n",
       "    <tr>\n",
       "      <th>75%</th>\n",
       "      <td>24.127500</td>\n",
       "      <td>3.562500</td>\n",
       "      <td>NaN</td>\n",
       "      <td>NaN</td>\n",
       "      <td>NaN</td>\n",
       "      <td>NaN</td>\n",
       "      <td>3.000000</td>\n",
       "    </tr>\n",
       "    <tr>\n",
       "      <th>max</th>\n",
       "      <td>50.810000</td>\n",
       "      <td>10.000000</td>\n",
       "      <td>NaN</td>\n",
       "      <td>NaN</td>\n",
       "      <td>NaN</td>\n",
       "      <td>NaN</td>\n",
       "      <td>6.000000</td>\n",
       "    </tr>\n",
       "  </tbody>\n",
       "</table>\n",
       "</div>"
      ],
      "text/plain": [
       "        total_bill         tip   sex smoker  day    meal  party size\n",
       "count   244.000000  244.000000   244    244  244     244  244.000000\n",
       "unique         NaN         NaN     2      2    4       2         NaN\n",
       "top            NaN         NaN  Male     No  Sat  Dinner         NaN\n",
       "freq           NaN         NaN   157    151   87     176         NaN\n",
       "mean     19.785943    2.998279   NaN    NaN  NaN     NaN    2.569672\n",
       "std       8.902412    1.383638   NaN    NaN  NaN     NaN    0.951100\n",
       "min       3.070000    1.000000   NaN    NaN  NaN     NaN    1.000000\n",
       "25%      13.347500    2.000000   NaN    NaN  NaN     NaN    2.000000\n",
       "50%      17.795000    2.900000   NaN    NaN  NaN     NaN    2.000000\n",
       "75%      24.127500    3.562500   NaN    NaN  NaN     NaN    3.000000\n",
       "max      50.810000   10.000000   NaN    NaN  NaN     NaN    6.000000"
      ]
     },
     "execution_count": 13,
     "metadata": {},
     "output_type": "execute_result"
    }
   ],
   "source": [
    "# 10. Use the describe function to get basic statistics about all attributes.\n",
    "tips.describe(include='all')  "
   ]
  },
  {
   "cell_type": "code",
   "execution_count": 14,
   "metadata": {},
   "outputs": [
    {
     "data": {
      "text/plain": [
       "2.9982786885245902"
      ]
     },
     "execution_count": 14,
     "metadata": {},
     "output_type": "execute_result"
    }
   ],
   "source": [
    "# 11. How much tip do customers usually give on average? \n",
    "tips['tip'].mean()"
   ]
  },
  {
   "cell_type": "code",
   "execution_count": 15,
   "metadata": {},
   "outputs": [
    {
     "data": {
      "text/plain": [
       "count    244.000000\n",
       "mean       2.998279\n",
       "std        1.383638\n",
       "min        1.000000\n",
       "25%        2.000000\n",
       "50%        2.900000\n",
       "75%        3.562500\n",
       "max       10.000000\n",
       "Name: tip, dtype: float64"
      ]
     },
     "execution_count": 15,
     "metadata": {},
     "output_type": "execute_result"
    }
   ],
   "source": [
    "# 12. et basic statistics about the tip column using the describe function. \n",
    "# This helps give an idea about the min, max, median values of tip in addition to other basic statistics.\n",
    "tips.tip.describe()"
   ]
  },
  {
   "cell_type": "code",
   "execution_count": 16,
   "metadata": {},
   "outputs": [
    {
     "data": {
      "text/plain": [
       "{'whiskers': [<matplotlib.lines.Line2D at 0x7fc9e4341d00>,\n",
       "  <matplotlib.lines.Line2D at 0x7fc9e435b0a0>],\n",
       " 'caps': [<matplotlib.lines.Line2D at 0x7fc9e435b400>,\n",
       "  <matplotlib.lines.Line2D at 0x7fc9e435b760>],\n",
       " 'boxes': [<matplotlib.lines.Line2D at 0x7fc9e43419a0>],\n",
       " 'medians': [<matplotlib.lines.Line2D at 0x7fc9e435bac0>],\n",
       " 'fliers': [<matplotlib.lines.Line2D at 0x7fc9e435bdc0>],\n",
       " 'means': []}"
      ]
     },
     "execution_count": 16,
     "metadata": {},
     "output_type": "execute_result"
    },
    {
     "data": {
      "image/png": "[encoded data removed]",
      "text/plain": [
       "<Figure size 432x288 with 1 Axes>"
      ]
     },
     "metadata": {
      "needs_background": "light"
     },
     "output_type": "display_data"
    }
   ],
   "source": [
    "# 13. Draw a boxplot of the tip column. This gives a visual representation of the tips data and shows outliers.\n",
    "plt.boxplot(tips['tip'])"
   ]
  },
  {
   "cell_type": "code",
   "execution_count": 17,
   "metadata": {},
   "outputs": [
    {
     "data": {
      "text/html": [
       "<div>\n",
       "<style scoped>\n",
       "    .dataframe tbody tr th:only-of-type {\n",
       "        vertical-align: middle;\n",
       "    }\n",
       "\n",
       "    .dataframe tbody tr th {\n",
       "        vertical-align: top;\n",
       "    }\n",
       "\n",
       "    .dataframe thead th {\n",
       "        text-align: right;\n",
       "    }\n",
       "</style>\n",
       "<table border=\"1\" class=\"dataframe\">\n",
       "  <thead>\n",
       "    <tr style=\"text-align: right;\">\n",
       "      <th></th>\n",
       "      <th>total_bill</th>\n",
       "      <th>tip</th>\n",
       "      <th>sex</th>\n",
       "      <th>smoker</th>\n",
       "      <th>day</th>\n",
       "      <th>meal</th>\n",
       "      <th>party size</th>\n",
       "    </tr>\n",
       "  </thead>\n",
       "  <tbody>\n",
       "    <tr>\n",
       "      <th>23</th>\n",
       "      <td>39.42</td>\n",
       "      <td>7.58</td>\n",
       "      <td>Male</td>\n",
       "      <td>No</td>\n",
       "      <td>Sat</td>\n",
       "      <td>Dinner</td>\n",
       "      <td>4</td>\n",
       "    </tr>\n",
       "    <tr>\n",
       "      <th>47</th>\n",
       "      <td>32.40</td>\n",
       "      <td>6.00</td>\n",
       "      <td>Male</td>\n",
       "      <td>No</td>\n",
       "      <td>Sun</td>\n",
       "      <td>Dinner</td>\n",
       "      <td>4</td>\n",
       "    </tr>\n",
       "    <tr>\n",
       "      <th>59</th>\n",
       "      <td>48.27</td>\n",
       "      <td>6.73</td>\n",
       "      <td>Male</td>\n",
       "      <td>No</td>\n",
       "      <td>Sat</td>\n",
       "      <td>Dinner</td>\n",
       "      <td>4</td>\n",
       "    </tr>\n",
       "    <tr>\n",
       "      <th>141</th>\n",
       "      <td>34.30</td>\n",
       "      <td>6.70</td>\n",
       "      <td>Male</td>\n",
       "      <td>No</td>\n",
       "      <td>Thur</td>\n",
       "      <td>Lunch</td>\n",
       "      <td>6</td>\n",
       "    </tr>\n",
       "    <tr>\n",
       "      <th>170</th>\n",
       "      <td>50.81</td>\n",
       "      <td>10.00</td>\n",
       "      <td>Male</td>\n",
       "      <td>Yes</td>\n",
       "      <td>Sat</td>\n",
       "      <td>Dinner</td>\n",
       "      <td>3</td>\n",
       "    </tr>\n",
       "    <tr>\n",
       "      <th>183</th>\n",
       "      <td>23.17</td>\n",
       "      <td>6.50</td>\n",
       "      <td>Male</td>\n",
       "      <td>Yes</td>\n",
       "      <td>Sun</td>\n",
       "      <td>Dinner</td>\n",
       "      <td>4</td>\n",
       "    </tr>\n",
       "    <tr>\n",
       "      <th>212</th>\n",
       "      <td>48.33</td>\n",
       "      <td>9.00</td>\n",
       "      <td>Male</td>\n",
       "      <td>No</td>\n",
       "      <td>Sat</td>\n",
       "      <td>Dinner</td>\n",
       "      <td>4</td>\n",
       "    </tr>\n",
       "    <tr>\n",
       "      <th>214</th>\n",
       "      <td>28.17</td>\n",
       "      <td>6.50</td>\n",
       "      <td>Female</td>\n",
       "      <td>Yes</td>\n",
       "      <td>Sat</td>\n",
       "      <td>Dinner</td>\n",
       "      <td>3</td>\n",
       "    </tr>\n",
       "  </tbody>\n",
       "</table>\n",
       "</div>"
      ],
      "text/plain": [
       "     total_bill    tip     sex smoker   day    meal  party size\n",
       "23        39.42   7.58    Male     No   Sat  Dinner           4\n",
       "47        32.40   6.00    Male     No   Sun  Dinner           4\n",
       "59        48.27   6.73    Male     No   Sat  Dinner           4\n",
       "141       34.30   6.70    Male     No  Thur   Lunch           6\n",
       "170       50.81  10.00    Male    Yes   Sat  Dinner           3\n",
       "183       23.17   6.50    Male    Yes   Sun  Dinner           4\n",
       "212       48.33   9.00    Male     No   Sat  Dinner           4\n",
       "214       28.17   6.50  Female    Yes   Sat  Dinner           3"
      ]
     },
     "execution_count": 17,
     "metadata": {},
     "output_type": "execute_result"
    }
   ],
   "source": [
    "# 14. Retrieve the rows where the tip amount is >= 6. \n",
    "tips[:][tips.tip>=6]"
   ]
  },
  {
   "cell_type": "code",
   "execution_count": 18,
   "metadata": {},
   "outputs": [
    {
     "data": {
      "text/plain": [
       "Text(0.5, 1.0, 'Average tips in USD')"
      ]
     },
     "execution_count": 18,
     "metadata": {},
     "output_type": "execute_result"
    },
    {
     "data": {
      "image/png": "[encoded data removed]",
      "text/plain": [
       "<Figure size 432x288 with 1 Axes>"
      ]
     },
     "metadata": {
      "needs_background": "light"
     },
     "output_type": "display_data"
    }
   ],
   "source": [
    "# 15. Do male customers usually give more tips than female customers? \n",
    "avg = tips['tip'].groupby(tips['sex']).mean()\n",
    "plt.bar(avg.index,avg[:])\n",
    "plt.title(\"Average tips in USD\")"
   ]
  },
  {
   "cell_type": "code",
   "execution_count": 19,
   "metadata": {},
   "outputs": [
    {
     "data": {
      "text/html": [
       "<div>\n",
       "<style scoped>\n",
       "    .dataframe tbody tr th:only-of-type {\n",
       "        vertical-align: middle;\n",
       "    }\n",
       "\n",
       "    .dataframe tbody tr th {\n",
       "        vertical-align: top;\n",
       "    }\n",
       "\n",
       "    .dataframe thead th {\n",
       "        text-align: right;\n",
       "    }\n",
       "</style>\n",
       "<table border=\"1\" class=\"dataframe\">\n",
       "  <thead>\n",
       "    <tr style=\"text-align: right;\">\n",
       "      <th></th>\n",
       "      <th>total_bill</th>\n",
       "      <th>tip</th>\n",
       "      <th>sex</th>\n",
       "      <th>smoker</th>\n",
       "      <th>day</th>\n",
       "      <th>meal</th>\n",
       "      <th>party size</th>\n",
       "    </tr>\n",
       "  </thead>\n",
       "  <tbody>\n",
       "    <tr>\n",
       "      <th>129</th>\n",
       "      <td>22.82</td>\n",
       "      <td>2.18</td>\n",
       "      <td>Male</td>\n",
       "      <td>No</td>\n",
       "      <td>Thur</td>\n",
       "      <td>Lunch</td>\n",
       "      <td>3</td>\n",
       "    </tr>\n",
       "    <tr>\n",
       "      <th>95</th>\n",
       "      <td>40.17</td>\n",
       "      <td>4.73</td>\n",
       "      <td>Male</td>\n",
       "      <td>Yes</td>\n",
       "      <td>Fri</td>\n",
       "      <td>Dinner</td>\n",
       "      <td>4</td>\n",
       "    </tr>\n",
       "    <tr>\n",
       "      <th>61</th>\n",
       "      <td>13.81</td>\n",
       "      <td>2.00</td>\n",
       "      <td>Male</td>\n",
       "      <td>Yes</td>\n",
       "      <td>Sat</td>\n",
       "      <td>Dinner</td>\n",
       "      <td>2</td>\n",
       "    </tr>\n",
       "    <tr>\n",
       "      <th>12</th>\n",
       "      <td>15.42</td>\n",
       "      <td>1.57</td>\n",
       "      <td>Male</td>\n",
       "      <td>No</td>\n",
       "      <td>Sun</td>\n",
       "      <td>Dinner</td>\n",
       "      <td>2</td>\n",
       "    </tr>\n",
       "    <tr>\n",
       "      <th>25</th>\n",
       "      <td>17.81</td>\n",
       "      <td>2.34</td>\n",
       "      <td>Male</td>\n",
       "      <td>No</td>\n",
       "      <td>Sat</td>\n",
       "      <td>Dinner</td>\n",
       "      <td>4</td>\n",
       "    </tr>\n",
       "    <tr>\n",
       "      <th>175</th>\n",
       "      <td>32.90</td>\n",
       "      <td>3.11</td>\n",
       "      <td>Male</td>\n",
       "      <td>Yes</td>\n",
       "      <td>Sun</td>\n",
       "      <td>Dinner</td>\n",
       "      <td>2</td>\n",
       "    </tr>\n",
       "    <tr>\n",
       "      <th>49</th>\n",
       "      <td>18.04</td>\n",
       "      <td>3.00</td>\n",
       "      <td>Male</td>\n",
       "      <td>No</td>\n",
       "      <td>Sun</td>\n",
       "      <td>Dinner</td>\n",
       "      <td>2</td>\n",
       "    </tr>\n",
       "    <tr>\n",
       "      <th>63</th>\n",
       "      <td>18.29</td>\n",
       "      <td>3.76</td>\n",
       "      <td>Male</td>\n",
       "      <td>Yes</td>\n",
       "      <td>Sat</td>\n",
       "      <td>Dinner</td>\n",
       "      <td>4</td>\n",
       "    </tr>\n",
       "    <tr>\n",
       "      <th>43</th>\n",
       "      <td>9.68</td>\n",
       "      <td>1.32</td>\n",
       "      <td>Male</td>\n",
       "      <td>No</td>\n",
       "      <td>Sun</td>\n",
       "      <td>Dinner</td>\n",
       "      <td>2</td>\n",
       "    </tr>\n",
       "    <tr>\n",
       "      <th>84</th>\n",
       "      <td>15.98</td>\n",
       "      <td>2.03</td>\n",
       "      <td>Male</td>\n",
       "      <td>No</td>\n",
       "      <td>Thur</td>\n",
       "      <td>Lunch</td>\n",
       "      <td>2</td>\n",
       "    </tr>\n",
       "  </tbody>\n",
       "</table>\n",
       "</div>"
      ],
      "text/plain": [
       "     total_bill   tip   sex smoker   day    meal  party size\n",
       "129       22.82  2.18  Male     No  Thur   Lunch           3\n",
       "95        40.17  4.73  Male    Yes   Fri  Dinner           4\n",
       "61        13.81  2.00  Male    Yes   Sat  Dinner           2\n",
       "12        15.42  1.57  Male     No   Sun  Dinner           2\n",
       "25        17.81  2.34  Male     No   Sat  Dinner           4\n",
       "175       32.90  3.11  Male    Yes   Sun  Dinner           2\n",
       "49        18.04  3.00  Male     No   Sun  Dinner           2\n",
       "63        18.29  3.76  Male    Yes   Sat  Dinner           4\n",
       "43         9.68  1.32  Male     No   Sun  Dinner           2\n",
       "84        15.98  2.03  Male     No  Thur   Lunch           2"
      ]
     },
     "execution_count": 19,
     "metadata": {},
     "output_type": "execute_result"
    }
   ],
   "source": [
    "# 16. Create a DF named males that contains the male samples in the tips DF. \n",
    "'''Then, call males.sample(10) to draw a random sample of 10 male observations.\n",
    "'''\n",
    "males = tips[:][tips.sex=='Male']\n",
    "males.sample(10)"
   ]
  },
  {
   "cell_type": "code",
   "execution_count": 20,
   "metadata": {},
   "outputs": [
    {
     "data": {
      "text/html": [
       "<div>\n",
       "<style scoped>\n",
       "    .dataframe tbody tr th:only-of-type {\n",
       "        vertical-align: middle;\n",
       "    }\n",
       "\n",
       "    .dataframe tbody tr th {\n",
       "        vertical-align: top;\n",
       "    }\n",
       "\n",
       "    .dataframe thead th {\n",
       "        text-align: right;\n",
       "    }\n",
       "</style>\n",
       "<table border=\"1\" class=\"dataframe\">\n",
       "  <thead>\n",
       "    <tr style=\"text-align: right;\">\n",
       "      <th></th>\n",
       "      <th>total_bill</th>\n",
       "      <th>tip</th>\n",
       "      <th>sex</th>\n",
       "      <th>smoker</th>\n",
       "      <th>day</th>\n",
       "      <th>meal</th>\n",
       "      <th>party size</th>\n",
       "    </tr>\n",
       "  </thead>\n",
       "  <tbody>\n",
       "    <tr>\n",
       "      <th>213</th>\n",
       "      <td>13.27</td>\n",
       "      <td>2.50</td>\n",
       "      <td>Female</td>\n",
       "      <td>Yes</td>\n",
       "      <td>Sat</td>\n",
       "      <td>Dinner</td>\n",
       "      <td>2</td>\n",
       "    </tr>\n",
       "    <tr>\n",
       "      <th>121</th>\n",
       "      <td>13.42</td>\n",
       "      <td>1.68</td>\n",
       "      <td>Female</td>\n",
       "      <td>No</td>\n",
       "      <td>Thur</td>\n",
       "      <td>Lunch</td>\n",
       "      <td>2</td>\n",
       "    </tr>\n",
       "    <tr>\n",
       "      <th>146</th>\n",
       "      <td>18.64</td>\n",
       "      <td>1.36</td>\n",
       "      <td>Female</td>\n",
       "      <td>No</td>\n",
       "      <td>Thur</td>\n",
       "      <td>Lunch</td>\n",
       "      <td>3</td>\n",
       "    </tr>\n",
       "    <tr>\n",
       "      <th>121</th>\n",
       "      <td>13.42</td>\n",
       "      <td>1.68</td>\n",
       "      <td>Female</td>\n",
       "      <td>No</td>\n",
       "      <td>Thur</td>\n",
       "      <td>Lunch</td>\n",
       "      <td>2</td>\n",
       "    </tr>\n",
       "    <tr>\n",
       "      <th>32</th>\n",
       "      <td>15.06</td>\n",
       "      <td>3.00</td>\n",
       "      <td>Female</td>\n",
       "      <td>No</td>\n",
       "      <td>Sat</td>\n",
       "      <td>Dinner</td>\n",
       "      <td>2</td>\n",
       "    </tr>\n",
       "    <tr>\n",
       "      <th>133</th>\n",
       "      <td>12.26</td>\n",
       "      <td>2.00</td>\n",
       "      <td>Female</td>\n",
       "      <td>No</td>\n",
       "      <td>Thur</td>\n",
       "      <td>Lunch</td>\n",
       "      <td>2</td>\n",
       "    </tr>\n",
       "    <tr>\n",
       "      <th>191</th>\n",
       "      <td>19.81</td>\n",
       "      <td>4.19</td>\n",
       "      <td>Female</td>\n",
       "      <td>Yes</td>\n",
       "      <td>Thur</td>\n",
       "      <td>Lunch</td>\n",
       "      <td>2</td>\n",
       "    </tr>\n",
       "    <tr>\n",
       "      <th>191</th>\n",
       "      <td>19.81</td>\n",
       "      <td>4.19</td>\n",
       "      <td>Female</td>\n",
       "      <td>Yes</td>\n",
       "      <td>Thur</td>\n",
       "      <td>Lunch</td>\n",
       "      <td>2</td>\n",
       "    </tr>\n",
       "    <tr>\n",
       "      <th>92</th>\n",
       "      <td>5.75</td>\n",
       "      <td>1.00</td>\n",
       "      <td>Female</td>\n",
       "      <td>Yes</td>\n",
       "      <td>Fri</td>\n",
       "      <td>Dinner</td>\n",
       "      <td>2</td>\n",
       "    </tr>\n",
       "  </tbody>\n",
       "</table>\n",
       "</div>"
      ],
      "text/plain": [
       "     total_bill   tip     sex smoker   day    meal  party size\n",
       "213       13.27  2.50  Female    Yes   Sat  Dinner           2\n",
       "121       13.42  1.68  Female     No  Thur   Lunch           2\n",
       "146       18.64  1.36  Female     No  Thur   Lunch           3\n",
       "121       13.42  1.68  Female     No  Thur   Lunch           2\n",
       "32        15.06  3.00  Female     No   Sat  Dinner           2\n",
       "133       12.26  2.00  Female     No  Thur   Lunch           2\n",
       "191       19.81  4.19  Female    Yes  Thur   Lunch           2\n",
       "191       19.81  4.19  Female    Yes  Thur   Lunch           2\n",
       "92         5.75  1.00  Female    Yes   Fri  Dinner           2"
      ]
     },
     "execution_count": 20,
     "metadata": {},
     "output_type": "execute_result"
    }
   ],
   "source": [
    "# 17. \n",
    "females = tips[:][tips.sex=='Female']\n",
    "females.sample(frac=0.1, replace = True)"
   ]
  },
  {
   "cell_type": "code",
   "execution_count": 21,
   "metadata": {},
   "outputs": [
    {
     "name": "stdout",
     "output_type": "stream",
     "text": [
      "157\n",
      "87\n"
     ]
    }
   ],
   "source": [
    "# 18. Write code to find out the number of male customers and the number of female customers.\n",
    "print(len(males))\n",
    "print(len(females))"
   ]
  },
  {
   "cell_type": "code",
   "execution_count": 22,
   "metadata": {},
   "outputs": [
    {
     "data": {
      "image/png": "[encoded data removed]",
      "text/plain": [
       "<Figure size 432x288 with 1 Axes>"
      ]
     },
     "metadata": {
      "needs_background": "light"
     },
     "output_type": "display_data"
    }
   ],
   "source": [
    "# 19. Create a bar chart comparing the number of males and number of females in the dataset\n",
    "sex = ['Male', 'Female']\n",
    "number_customer = [len(males),len(females)]\n",
    "plt.bar(sex,number_customer)\n",
    "plt.title(\"Comparing Number of Customerts Bases on Gender\")\n",
    "plt.xlabel(\"Gender\")\n",
    "plt.ylabel(\"Number of Customers\")\n",
    "plt.show()"
   ]
  },
  {
   "cell_type": "code",
   "execution_count": null,
   "metadata": {},
   "outputs": [],
   "source": []
  },
  {
   "cell_type": "code",
   "execution_count": 23,
   "metadata": {},
   "outputs": [
    {
     "data": {
      "image/png": "[encoded data removed]",
      "text/plain": [
       "<Figure size 432x288 with 1 Axes>"
      ]
     },
     "metadata": {
      "needs_background": "light"
     },
     "output_type": "display_data"
    }
   ],
   "source": [
    "# 20. Draw a scatter plot of the tips given by male customers and a scatter plot of the tips given by female customers.\n",
    "\n",
    "plt.scatter(range(1,len(males)+1),males['tip'].tolist(),marker='+', color='r',label='male')\n",
    "plt.scatter(range(1,len(females)+1),females['tip'].tolist(),marker='*', color='b',label='female')\n",
    "plt.ylabel(\"Tips in USD\")\n",
    "plt.xlabel(\"Customer Number\")\n",
    "plt.legend(loc=0)\n",
    "plt.show()"
   ]
  },
  {
   "cell_type": "code",
   "execution_count": 24,
   "metadata": {},
   "outputs": [
    {
     "data": {
      "image/png": "[encoded data removed]",
      "text/plain": [
       "<Figure size 432x288 with 1 Axes>"
      ]
     },
     "metadata": {
      "needs_background": "light"
     },
     "output_type": "display_data"
    }
   ],
   "source": [
    "# 21. Draw two box plots to show tips per sex.\n",
    "plt.boxplot([females.tip,males.tip],labels=['Female','Male'])\n",
    "plt.xlabel(\"Gender\")\n",
    "plt.ylabel(\"Tip\")\n",
    "plt.title('Boxplot of Tips by Gender')\n",
    "plt.show()"
   ]
  },
  {
   "cell_type": "code",
   "execution_count": 25,
   "metadata": {},
   "outputs": [
    {
     "data": {
      "text/plain": [
       "count     244\n",
       "unique      4\n",
       "top       Sat\n",
       "freq       87\n",
       "Name: day, dtype: object"
      ]
     },
     "execution_count": 25,
     "metadata": {},
     "output_type": "execute_result"
    }
   ],
   "source": [
    "# 22. Apply the describe function on the “day” column of the tips DF and observe the result.\n",
    "tips.day.describe()"
   ]
  },
  {
   "cell_type": "code",
   "execution_count": 26,
   "metadata": {},
   "outputs": [
    {
     "data": {
      "text/html": [
       "<div>\n",
       "<style scoped>\n",
       "    .dataframe tbody tr th:only-of-type {\n",
       "        vertical-align: middle;\n",
       "    }\n",
       "\n",
       "    .dataframe tbody tr th {\n",
       "        vertical-align: top;\n",
       "    }\n",
       "\n",
       "    .dataframe thead th {\n",
       "        text-align: right;\n",
       "    }\n",
       "</style>\n",
       "<table border=\"1\" class=\"dataframe\">\n",
       "  <thead>\n",
       "    <tr style=\"text-align: right;\">\n",
       "      <th></th>\n",
       "      <th>day</th>\n",
       "      <th>total_bill</th>\n",
       "      <th>Customer</th>\n",
       "      <th>sex</th>\n",
       "      <th>smoker</th>\n",
       "      <th>meal</th>\n",
       "      <th>party size</th>\n",
       "    </tr>\n",
       "  </thead>\n",
       "  <tbody>\n",
       "    <tr>\n",
       "      <th>0</th>\n",
       "      <td>Fri</td>\n",
       "      <td>19</td>\n",
       "      <td>19</td>\n",
       "      <td>19</td>\n",
       "      <td>19</td>\n",
       "      <td>19</td>\n",
       "      <td>19</td>\n",
       "    </tr>\n",
       "    <tr>\n",
       "      <th>1</th>\n",
       "      <td>Sat</td>\n",
       "      <td>87</td>\n",
       "      <td>87</td>\n",
       "      <td>87</td>\n",
       "      <td>87</td>\n",
       "      <td>87</td>\n",
       "      <td>87</td>\n",
       "    </tr>\n",
       "    <tr>\n",
       "      <th>2</th>\n",
       "      <td>Sun</td>\n",
       "      <td>76</td>\n",
       "      <td>76</td>\n",
       "      <td>76</td>\n",
       "      <td>76</td>\n",
       "      <td>76</td>\n",
       "      <td>76</td>\n",
       "    </tr>\n",
       "    <tr>\n",
       "      <th>3</th>\n",
       "      <td>Thur</td>\n",
       "      <td>62</td>\n",
       "      <td>62</td>\n",
       "      <td>62</td>\n",
       "      <td>62</td>\n",
       "      <td>62</td>\n",
       "      <td>62</td>\n",
       "    </tr>\n",
       "  </tbody>\n",
       "</table>\n",
       "</div>"
      ],
      "text/plain": [
       "    day  total_bill  Customer  sex  smoker  meal  party size\n",
       "0   Fri          19        19   19      19    19          19\n",
       "1   Sat          87        87   87      87    87          87\n",
       "2   Sun          76        76   76      76    76          76\n",
       "3  Thur          62        62   62      62    62          62"
      ]
     },
     "execution_count": 26,
     "metadata": {},
     "output_type": "execute_result"
    }
   ],
   "source": [
    "# 23.\n",
    "\"\"\"Use the groupby function to form groups based on the days of the week and find the number of customers \n",
    "that were served every day?\n",
    "\"\"\"\n",
    "#tips.groupby(tips['day'])['day'].count().plot(kind='bar')\n",
    "data = tips.groupby(tips['day']).count().reset_index().rename(columns={'tip':'Customer'})\n",
    "data"
   ]
  },
  {
   "cell_type": "code",
   "execution_count": 27,
   "metadata": {},
   "outputs": [
    {
     "data": {
      "text/plain": [
       "Text(0.5, 1.0, 'Number of Customers Per Day')"
      ]
     },
     "execution_count": 27,
     "metadata": {},
     "output_type": "execute_result"
    },
    {
     "data": {
      "image/png": "[encoded data removed]",
      "text/plain": [
       "<Figure size 432x288 with 1 Axes>"
      ]
     },
     "metadata": {
      "needs_background": "light"
     },
     "output_type": "display_data"
    }
   ],
   "source": [
    "# 24. Draw a line plot that shows number of customers served every day.\n",
    "#d = data.iloc[:,:2]\n",
    "\n",
    "day_order = [ \"Thur\", \"Fri\", \"Sat\", \"Sun\"]\n",
    "a = data.set_index('day').loc[day_order]\n",
    "plt.plot(a.index,a['total_bill'])\n",
    "plt.grid(True)\n",
    "plt.xticks([0.0,1.0,2.0,3.0],[\"Thursday\",'Friday',\"Saturday\",\"Sunday\"])\n",
    "plt.xlabel(\"Day\")\n",
    "plt.ylabel(\"Number of Customers\")\n",
    "plt.title(\"Number of Customers Per Day\")"
   ]
  },
  {
   "cell_type": "code",
   "execution_count": 28,
   "metadata": {},
   "outputs": [
    {
     "data": {
      "text/plain": [
       "day\n",
       "Fri     2.734737\n",
       "Sat     2.993103\n",
       "Sun     3.255132\n",
       "Thur    2.771452\n",
       "Name: tip, dtype: float64"
      ]
     },
     "execution_count": 28,
     "metadata": {},
     "output_type": "execute_result"
    }
   ],
   "source": [
    "# 25. Use the groupby function to find the average tip per day? Store these averages in variables. \n",
    "# These variables will be used next to display the averages in plots. \n",
    "avg_tips = tips['tip'].groupby(tips['day']).mean()\n",
    "avg_tips"
   ]
  },
  {
   "cell_type": "code",
   "execution_count": 29,
   "metadata": {},
   "outputs": [
    {
     "data": {
      "image/png": "[encoded data removed]",
      "text/plain": [
       "<Figure size 576x576 with 4 Axes>"
      ]
     },
     "metadata": {
      "needs_background": "light"
     },
     "output_type": "display_data"
    }
   ],
   "source": [
    "# 26. \n",
    "thu = tips[tips['day']=='Thur']\n",
    "fri = tips[tips['day']=='Fri']\n",
    "sat = tips[tips['day']=='Sat']\n",
    "sun = tips[tips['day']=='Sun']\n",
    "\n",
    "fig = plt.figure(figsize=(8,8))\n",
    "\n",
    "axes1 = fig.add_subplot(2, 2, 1)\n",
    "axes2 = fig.add_subplot(2, 2, 2)\n",
    "axes3 = fig.add_subplot(2, 2, 3)\n",
    "axes4 = fig.add_subplot(2, 2, 4)\n",
    "\n",
    "axes1.plot(thu.index, thu['tip'],'-',0,avg_tips.loc['Thur'],'r*')\n",
    "axes2.plot(fri.index, fri['tip'],'-',0,avg_tips.loc['Fri'],'r*')\n",
    "axes3.plot(sat.index, sat['tip'],'-',0,avg_tips.loc['Sat'],'r*')\n",
    "axes4.plot(sun.index, sun['tip'],'-',0,avg_tips.loc['Sun'],'r*')\n",
    "\n",
    "axes1.set_title(\"Thursday\")\n",
    "axes2.set_title(\"Friday\")\n",
    "axes3.set_title(\"Saturday\")\n",
    "axes4.set_title(\"Sunday\")\n",
    "plt.show()"
   ]
  },
  {
   "cell_type": "code",
   "execution_count": 30,
   "metadata": {},
   "outputs": [
    {
     "data": {
      "image/png": "[encoded data removed]",
      "text/plain": [
       "<Figure size 432x288 with 1 Axes>"
      ]
     },
     "metadata": {},
     "output_type": "display_data"
    }
   ],
   "source": [
    "# 27. Draw a pie chart to compare the total tip amounts collected on the different days. \n",
    "tt = tips.groupby(tips['day']).sum().reset_index()\n",
    "plt.pie(tt['tip'],labels=tt['day'],autopct=\"%0.2f%%\")\n",
    "plt.show()"
   ]
  },
  {
   "cell_type": "markdown",
   "metadata": {},
   "source": [
    "Part 2: "
   ]
  },
  {
   "cell_type": "code",
   "execution_count": 31,
   "metadata": {},
   "outputs": [],
   "source": [
    "# Read dataset \n",
    "#https://www.kaggle.com/rishidamarla/data-about-500-us-companies\n",
    "usCompany = pd.read_csv(\"us_companies.csv\")\n"
   ]
  },
  {
   "cell_type": "code",
   "execution_count": 32,
   "metadata": {},
   "outputs": [
    {
     "data": {
      "text/html": [
       "<div>\n",
       "<style scoped>\n",
       "    .dataframe tbody tr th:only-of-type {\n",
       "        vertical-align: middle;\n",
       "    }\n",
       "\n",
       "    .dataframe tbody tr th {\n",
       "        vertical-align: top;\n",
       "    }\n",
       "\n",
       "    .dataframe thead th {\n",
       "        text-align: right;\n",
       "    }\n",
       "</style>\n",
       "<table border=\"1\" class=\"dataframe\">\n",
       "  <thead>\n",
       "    <tr style=\"text-align: right;\">\n",
       "      <th></th>\n",
       "      <th>company_name_id</th>\n",
       "      <th>company_name</th>\n",
       "      <th>url</th>\n",
       "      <th>year_founded</th>\n",
       "      <th>city</th>\n",
       "      <th>state</th>\n",
       "      <th>country</th>\n",
       "      <th>zip_code</th>\n",
       "      <th>full_time_employees</th>\n",
       "      <th>company_type</th>\n",
       "      <th>...</th>\n",
       "      <th>business_model</th>\n",
       "      <th>social_impact</th>\n",
       "      <th>description</th>\n",
       "      <th>description_short</th>\n",
       "      <th>source_count</th>\n",
       "      <th>data_types</th>\n",
       "      <th>example_uses</th>\n",
       "      <th>data_impacts</th>\n",
       "      <th>financial_info</th>\n",
       "      <th>last_updated</th>\n",
       "    </tr>\n",
       "  </thead>\n",
       "  <tbody>\n",
       "    <tr>\n",
       "      <th>0</th>\n",
       "      <td>3-round-stones-inc</td>\n",
       "      <td>3 Round Stones, Inc.</td>\n",
       "      <td>http://3RoundStones.com</td>\n",
       "      <td>2010.0</td>\n",
       "      <td>Washington</td>\n",
       "      <td>DC</td>\n",
       "      <td>us</td>\n",
       "      <td>20004.0</td>\n",
       "      <td>1-10</td>\n",
       "      <td>Private</td>\n",
       "      <td>...</td>\n",
       "      <td>Business to Business, Business to Consumer</td>\n",
       "      <td>NaN</td>\n",
       "      <td>3 Round Stones produces a platform for publish...</td>\n",
       "      <td>Our Open Source platform is used by the Fortun...</td>\n",
       "      <td>NaN</td>\n",
       "      <td>NaN</td>\n",
       "      <td>NaN</td>\n",
       "      <td>[]</td>\n",
       "      <td>3 Round Stones is a profitable, self-funded, w...</td>\n",
       "      <td>2014-11-12 14:44:25.969871</td>\n",
       "    </tr>\n",
       "    <tr>\n",
       "      <th>1</th>\n",
       "      <td>48-factoring-inc</td>\n",
       "      <td>48 Factoring Inc.</td>\n",
       "      <td>https://www.48factoring.com</td>\n",
       "      <td>2014.0</td>\n",
       "      <td>Philadelphia</td>\n",
       "      <td>PA</td>\n",
       "      <td>us</td>\n",
       "      <td>19087.0</td>\n",
       "      <td>51-200</td>\n",
       "      <td>Private</td>\n",
       "      <td>...</td>\n",
       "      <td>Business to Business</td>\n",
       "      <td>Small Business Owners</td>\n",
       "      <td>The company mission is to provide finance to s...</td>\n",
       "      <td>48 Factoring Inc. is one of the best financial...</td>\n",
       "      <td>11-50</td>\n",
       "      <td>Business</td>\n",
       "      <td>NaN</td>\n",
       "      <td>[u'Cost efficiency', u'Job growth', u'Revenue ...</td>\n",
       "      <td>NaN</td>\n",
       "      <td>2015-05-18 11:36:39.902880</td>\n",
       "    </tr>\n",
       "    <tr>\n",
       "      <th>2</th>\n",
       "      <td>5psolutions</td>\n",
       "      <td>5PSolutions</td>\n",
       "      <td>www.5psolutions.com</td>\n",
       "      <td>2007.0</td>\n",
       "      <td>Fairfax</td>\n",
       "      <td>VA</td>\n",
       "      <td>us</td>\n",
       "      <td>22003.0</td>\n",
       "      <td>1-10</td>\n",
       "      <td>Private</td>\n",
       "      <td>...</td>\n",
       "      <td>Business to Business, Business to Consumer, Bu...</td>\n",
       "      <td>NaN</td>\n",
       "      <td>At 5PSolutions, we wish to make all basic info...</td>\n",
       "      <td>5PSolutions are artisans of mobile platforms.</td>\n",
       "      <td>NaN</td>\n",
       "      <td>NaN</td>\n",
       "      <td>NaN</td>\n",
       "      <td>[]</td>\n",
       "      <td>NaN</td>\n",
       "      <td>2014-11-12 15:09:35.485949</td>\n",
       "    </tr>\n",
       "    <tr>\n",
       "      <th>3</th>\n",
       "      <td>abt-associates</td>\n",
       "      <td>Abt Associates</td>\n",
       "      <td>abtassoc.com</td>\n",
       "      <td>1965.0</td>\n",
       "      <td>Cambridge</td>\n",
       "      <td>MA</td>\n",
       "      <td>us</td>\n",
       "      <td>2138.0</td>\n",
       "      <td>1,001-5,000</td>\n",
       "      <td>Private</td>\n",
       "      <td>...</td>\n",
       "      <td>NaN</td>\n",
       "      <td>NaN</td>\n",
       "      <td>Abt Associates is a mission-driven, internatio...</td>\n",
       "      <td>Abt Associates is a mission-driven, global lea...</td>\n",
       "      <td>101+</td>\n",
       "      <td>NaN</td>\n",
       "      <td>NaN</td>\n",
       "      <td>[]</td>\n",
       "      <td>Employee-owned company. $552M/year.</td>\n",
       "      <td>2014-09-11 17:23:21.390289</td>\n",
       "    </tr>\n",
       "    <tr>\n",
       "      <th>4</th>\n",
       "      <td>accela</td>\n",
       "      <td>Accela</td>\n",
       "      <td>http://www.accela.com</td>\n",
       "      <td>1999.0</td>\n",
       "      <td>San Ramon</td>\n",
       "      <td>CA</td>\n",
       "      <td>us</td>\n",
       "      <td>94583.0</td>\n",
       "      <td>501-1,000</td>\n",
       "      <td>Private</td>\n",
       "      <td>...</td>\n",
       "      <td>Business to Consumer</td>\n",
       "      <td>Citizen engagement and participation, Good gov...</td>\n",
       "      <td>Accela powers thousands of services and millio...</td>\n",
       "      <td>Accela improves citizen engagement by making i...</td>\n",
       "      <td>101+</td>\n",
       "      <td>Health/Healthcare, Housing, Public Safety</td>\n",
       "      <td>NaN</td>\n",
       "      <td>[]</td>\n",
       "      <td>NaN</td>\n",
       "      <td>2014-09-16 16:30:49.172802</td>\n",
       "    </tr>\n",
       "  </tbody>\n",
       "</table>\n",
       "<p>5 rows × 22 columns</p>\n",
       "</div>"
      ],
      "text/plain": [
       "      company_name_id          company_name                          url  \\\n",
       "0  3-round-stones-inc  3 Round Stones, Inc.      http://3RoundStones.com   \n",
       "1    48-factoring-inc     48 Factoring Inc.  https://www.48factoring.com   \n",
       "2         5psolutions           5PSolutions          www.5psolutions.com   \n",
       "3      abt-associates        Abt Associates                 abtassoc.com   \n",
       "4              accela                Accela        http://www.accela.com   \n",
       "\n",
       "   year_founded           city state country  zip_code full_time_employees  \\\n",
       "0        2010.0     Washington    DC      us   20004.0                1-10   \n",
       "1        2014.0   Philadelphia    PA      us   19087.0              51-200   \n",
       "2        2007.0        Fairfax    VA      us   22003.0                1-10   \n",
       "3        1965.0      Cambridge    MA      us    2138.0         1,001-5,000   \n",
       "4        1999.0      San Ramon    CA      us   94583.0           501-1,000   \n",
       "\n",
       "  company_type  ...                                     business_model  \\\n",
       "0      Private  ...         Business to Business, Business to Consumer   \n",
       "1      Private  ...                               Business to Business   \n",
       "2      Private  ...  Business to Business, Business to Consumer, Bu...   \n",
       "3      Private  ...                                                NaN   \n",
       "4      Private  ...                               Business to Consumer   \n",
       "\n",
       "                                       social_impact  \\\n",
       "0                                                NaN   \n",
       "1                              Small Business Owners   \n",
       "2                                                NaN   \n",
       "3                                                NaN   \n",
       "4  Citizen engagement and participation, Good gov...   \n",
       "\n",
       "                                         description  \\\n",
       "0  3 Round Stones produces a platform for publish...   \n",
       "1  The company mission is to provide finance to s...   \n",
       "2  At 5PSolutions, we wish to make all basic info...   \n",
       "3  Abt Associates is a mission-driven, internatio...   \n",
       "4  Accela powers thousands of services and millio...   \n",
       "\n",
       "                                   description_short source_count  \\\n",
       "0  Our Open Source platform is used by the Fortun...          NaN   \n",
       "1  48 Factoring Inc. is one of the best financial...        11-50   \n",
       "2      5PSolutions are artisans of mobile platforms.          NaN   \n",
       "3  Abt Associates is a mission-driven, global lea...         101+   \n",
       "4  Accela improves citizen engagement by making i...         101+   \n",
       "\n",
       "                                  data_types example_uses  \\\n",
       "0                                        NaN          NaN   \n",
       "1                                   Business          NaN   \n",
       "2                                        NaN          NaN   \n",
       "3                                        NaN          NaN   \n",
       "4  Health/Healthcare, Housing, Public Safety          NaN   \n",
       "\n",
       "                                        data_impacts  \\\n",
       "0                                                 []   \n",
       "1  [u'Cost efficiency', u'Job growth', u'Revenue ...   \n",
       "2                                                 []   \n",
       "3                                                 []   \n",
       "4                                                 []   \n",
       "\n",
       "                                      financial_info  \\\n",
       "0  3 Round Stones is a profitable, self-funded, w...   \n",
       "1                                                NaN   \n",
       "2                                                NaN   \n",
       "3                Employee-owned company. $552M/year.   \n",
       "4                                                NaN   \n",
       "\n",
       "                 last_updated  \n",
       "0  2014-11-12 14:44:25.969871  \n",
       "1  2015-05-18 11:36:39.902880  \n",
       "2  2014-11-12 15:09:35.485949  \n",
       "3  2014-09-11 17:23:21.390289  \n",
       "4  2014-09-16 16:30:49.172802  \n",
       "\n",
       "[5 rows x 22 columns]"
      ]
     },
     "execution_count": 32,
     "metadata": {},
     "output_type": "execute_result"
    }
   ],
   "source": [
    "usCompany.head(5)"
   ]
  },
  {
   "cell_type": "code",
   "execution_count": 33,
   "metadata": {},
   "outputs": [],
   "source": [
    "#%pip install pandas-profiling"
   ]
  },
  {
   "cell_type": "code",
   "execution_count": 34,
   "metadata": {},
   "outputs": [],
   "source": [
    "from pandas_profiling import ProfileReport"
   ]
  },
  {
   "cell_type": "code",
   "execution_count": 35,
   "metadata": {},
   "outputs": [],
   "source": [
    "#profile = ProfileReport(usCompany)\n",
    "#profile.to_file(output_file=\"Appointments.html\")"
   ]
  },
  {
   "cell_type": "code",
   "execution_count": 36,
   "metadata": {},
   "outputs": [
    {
     "data": {
      "text/html": [
       "<div>\n",
       "<style scoped>\n",
       "    .dataframe tbody tr th:only-of-type {\n",
       "        vertical-align: middle;\n",
       "    }\n",
       "\n",
       "    .dataframe tbody tr th {\n",
       "        vertical-align: top;\n",
       "    }\n",
       "\n",
       "    .dataframe thead th {\n",
       "        text-align: right;\n",
       "    }\n",
       "</style>\n",
       "<table border=\"1\" class=\"dataframe\">\n",
       "  <thead>\n",
       "    <tr style=\"text-align: right;\">\n",
       "      <th></th>\n",
       "      <th>company_name_id</th>\n",
       "      <th>company_name</th>\n",
       "      <th>url</th>\n",
       "      <th>year_founded</th>\n",
       "      <th>city</th>\n",
       "      <th>state</th>\n",
       "      <th>country</th>\n",
       "      <th>zip_code</th>\n",
       "      <th>full_time_employees</th>\n",
       "      <th>company_type</th>\n",
       "      <th>...</th>\n",
       "      <th>business_model</th>\n",
       "      <th>social_impact</th>\n",
       "      <th>description</th>\n",
       "      <th>description_short</th>\n",
       "      <th>source_count</th>\n",
       "      <th>data_types</th>\n",
       "      <th>example_uses</th>\n",
       "      <th>data_impacts</th>\n",
       "      <th>financial_info</th>\n",
       "      <th>last_updated</th>\n",
       "    </tr>\n",
       "  </thead>\n",
       "  <tbody>\n",
       "    <tr>\n",
       "      <th>0</th>\n",
       "      <td>3-round-stones-inc</td>\n",
       "      <td>3 Round Stones, Inc.</td>\n",
       "      <td>http://3RoundStones.com</td>\n",
       "      <td>2010.0</td>\n",
       "      <td>Washington</td>\n",
       "      <td>DC</td>\n",
       "      <td>us</td>\n",
       "      <td>20004.0</td>\n",
       "      <td>1-10</td>\n",
       "      <td>Private</td>\n",
       "      <td>...</td>\n",
       "      <td>Business to Business, Business to Consumer</td>\n",
       "      <td>NaN</td>\n",
       "      <td>3 Round Stones produces a platform for publish...</td>\n",
       "      <td>Our Open Source platform is used by the Fortun...</td>\n",
       "      <td>NaN</td>\n",
       "      <td>NaN</td>\n",
       "      <td>NaN</td>\n",
       "      <td>[]</td>\n",
       "      <td>3 Round Stones is a profitable, self-funded, w...</td>\n",
       "      <td>2014-11-12 14:44:25.969871</td>\n",
       "    </tr>\n",
       "    <tr>\n",
       "      <th>1</th>\n",
       "      <td>48-factoring-inc</td>\n",
       "      <td>48 Factoring Inc.</td>\n",
       "      <td>https://www.48factoring.com</td>\n",
       "      <td>2014.0</td>\n",
       "      <td>Philadelphia</td>\n",
       "      <td>PA</td>\n",
       "      <td>us</td>\n",
       "      <td>19087.0</td>\n",
       "      <td>51-200</td>\n",
       "      <td>Private</td>\n",
       "      <td>...</td>\n",
       "      <td>Business to Business</td>\n",
       "      <td>Small Business Owners</td>\n",
       "      <td>The company mission is to provide finance to s...</td>\n",
       "      <td>48 Factoring Inc. is one of the best financial...</td>\n",
       "      <td>11-50</td>\n",
       "      <td>Business</td>\n",
       "      <td>NaN</td>\n",
       "      <td>[u'Cost efficiency', u'Job growth', u'Revenue ...</td>\n",
       "      <td>NaN</td>\n",
       "      <td>2015-05-18 11:36:39.902880</td>\n",
       "    </tr>\n",
       "    <tr>\n",
       "      <th>2</th>\n",
       "      <td>5psolutions</td>\n",
       "      <td>5PSolutions</td>\n",
       "      <td>www.5psolutions.com</td>\n",
       "      <td>2007.0</td>\n",
       "      <td>Fairfax</td>\n",
       "      <td>VA</td>\n",
       "      <td>us</td>\n",
       "      <td>22003.0</td>\n",
       "      <td>1-10</td>\n",
       "      <td>Private</td>\n",
       "      <td>...</td>\n",
       "      <td>Business to Business, Business to Consumer, Bu...</td>\n",
       "      <td>NaN</td>\n",
       "      <td>At 5PSolutions, we wish to make all basic info...</td>\n",
       "      <td>5PSolutions are artisans of mobile platforms.</td>\n",
       "      <td>NaN</td>\n",
       "      <td>NaN</td>\n",
       "      <td>NaN</td>\n",
       "      <td>[]</td>\n",
       "      <td>NaN</td>\n",
       "      <td>2014-11-12 15:09:35.485949</td>\n",
       "    </tr>\n",
       "    <tr>\n",
       "      <th>3</th>\n",
       "      <td>abt-associates</td>\n",
       "      <td>Abt Associates</td>\n",
       "      <td>abtassoc.com</td>\n",
       "      <td>1965.0</td>\n",
       "      <td>Cambridge</td>\n",
       "      <td>MA</td>\n",
       "      <td>us</td>\n",
       "      <td>2138.0</td>\n",
       "      <td>1,001-5,000</td>\n",
       "      <td>Private</td>\n",
       "      <td>...</td>\n",
       "      <td>NaN</td>\n",
       "      <td>NaN</td>\n",
       "      <td>Abt Associates is a mission-driven, internatio...</td>\n",
       "      <td>Abt Associates is a mission-driven, global lea...</td>\n",
       "      <td>101+</td>\n",
       "      <td>NaN</td>\n",
       "      <td>NaN</td>\n",
       "      <td>[]</td>\n",
       "      <td>Employee-owned company. $552M/year.</td>\n",
       "      <td>2014-09-11 17:23:21.390289</td>\n",
       "    </tr>\n",
       "    <tr>\n",
       "      <th>4</th>\n",
       "      <td>accela</td>\n",
       "      <td>Accela</td>\n",
       "      <td>http://www.accela.com</td>\n",
       "      <td>1999.0</td>\n",
       "      <td>San Ramon</td>\n",
       "      <td>CA</td>\n",
       "      <td>us</td>\n",
       "      <td>94583.0</td>\n",
       "      <td>501-1,000</td>\n",
       "      <td>Private</td>\n",
       "      <td>...</td>\n",
       "      <td>Business to Consumer</td>\n",
       "      <td>Citizen engagement and participation, Good gov...</td>\n",
       "      <td>Accela powers thousands of services and millio...</td>\n",
       "      <td>Accela improves citizen engagement by making i...</td>\n",
       "      <td>101+</td>\n",
       "      <td>Health/Healthcare, Housing, Public Safety</td>\n",
       "      <td>NaN</td>\n",
       "      <td>[]</td>\n",
       "      <td>NaN</td>\n",
       "      <td>2014-09-16 16:30:49.172802</td>\n",
       "    </tr>\n",
       "  </tbody>\n",
       "</table>\n",
       "<p>5 rows × 22 columns</p>\n",
       "</div>"
      ],
      "text/plain": [
       "      company_name_id          company_name                          url  \\\n",
       "0  3-round-stones-inc  3 Round Stones, Inc.      http://3RoundStones.com   \n",
       "1    48-factoring-inc     48 Factoring Inc.  https://www.48factoring.com   \n",
       "2         5psolutions           5PSolutions          www.5psolutions.com   \n",
       "3      abt-associates        Abt Associates                 abtassoc.com   \n",
       "4              accela                Accela        http://www.accela.com   \n",
       "\n",
       "   year_founded           city state country  zip_code full_time_employees  \\\n",
       "0        2010.0     Washington    DC      us   20004.0                1-10   \n",
       "1        2014.0   Philadelphia    PA      us   19087.0              51-200   \n",
       "2        2007.0        Fairfax    VA      us   22003.0                1-10   \n",
       "3        1965.0      Cambridge    MA      us    2138.0         1,001-5,000   \n",
       "4        1999.0      San Ramon    CA      us   94583.0           501-1,000   \n",
       "\n",
       "  company_type  ...                                     business_model  \\\n",
       "0      Private  ...         Business to Business, Business to Consumer   \n",
       "1      Private  ...                               Business to Business   \n",
       "2      Private  ...  Business to Business, Business to Consumer, Bu...   \n",
       "3      Private  ...                                                NaN   \n",
       "4      Private  ...                               Business to Consumer   \n",
       "\n",
       "                                       social_impact  \\\n",
       "0                                                NaN   \n",
       "1                              Small Business Owners   \n",
       "2                                                NaN   \n",
       "3                                                NaN   \n",
       "4  Citizen engagement and participation, Good gov...   \n",
       "\n",
       "                                         description  \\\n",
       "0  3 Round Stones produces a platform for publish...   \n",
       "1  The company mission is to provide finance to s...   \n",
       "2  At 5PSolutions, we wish to make all basic info...   \n",
       "3  Abt Associates is a mission-driven, internatio...   \n",
       "4  Accela powers thousands of services and millio...   \n",
       "\n",
       "                                   description_short source_count  \\\n",
       "0  Our Open Source platform is used by the Fortun...          NaN   \n",
       "1  48 Factoring Inc. is one of the best financial...        11-50   \n",
       "2      5PSolutions are artisans of mobile platforms.          NaN   \n",
       "3  Abt Associates is a mission-driven, global lea...         101+   \n",
       "4  Accela improves citizen engagement by making i...         101+   \n",
       "\n",
       "                                  data_types example_uses  \\\n",
       "0                                        NaN          NaN   \n",
       "1                                   Business          NaN   \n",
       "2                                        NaN          NaN   \n",
       "3                                        NaN          NaN   \n",
       "4  Health/Healthcare, Housing, Public Safety          NaN   \n",
       "\n",
       "                                        data_impacts  \\\n",
       "0                                                 []   \n",
       "1  [u'Cost efficiency', u'Job growth', u'Revenue ...   \n",
       "2                                                 []   \n",
       "3                                                 []   \n",
       "4                                                 []   \n",
       "\n",
       "                                      financial_info  \\\n",
       "0  3 Round Stones is a profitable, self-funded, w...   \n",
       "1                                                NaN   \n",
       "2                                                NaN   \n",
       "3                Employee-owned company. $552M/year.   \n",
       "4                                                NaN   \n",
       "\n",
       "                 last_updated  \n",
       "0  2014-11-12 14:44:25.969871  \n",
       "1  2015-05-18 11:36:39.902880  \n",
       "2  2014-11-12 15:09:35.485949  \n",
       "3  2014-09-11 17:23:21.390289  \n",
       "4  2014-09-16 16:30:49.172802  \n",
       "\n",
       "[5 rows x 22 columns]"
      ]
     },
     "execution_count": 36,
     "metadata": {},
     "output_type": "execute_result"
    }
   ],
   "source": [
    "usCompany.head(5)"
   ]
  },
  {
   "cell_type": "code",
   "execution_count": 37,
   "metadata": {},
   "outputs": [
    {
     "data": {
      "text/plain": [
       "company_name_id          0\n",
       "company_name             0\n",
       "url                      0\n",
       "year_founded             1\n",
       "city                    33\n",
       "state                    0\n",
       "country                  0\n",
       "zip_code                37\n",
       "full_time_employees     29\n",
       "company_type            16\n",
       "company_category         3\n",
       "revenue_source          10\n",
       "business_model          76\n",
       "social_impact          513\n",
       "description              0\n",
       "description_short        0\n",
       "source_count           303\n",
       "data_types             387\n",
       "example_uses           521\n",
       "data_impacts             0\n",
       "financial_info         387\n",
       "last_updated             0\n",
       "dtype: int64"
      ]
     },
     "execution_count": 37,
     "metadata": {},
     "output_type": "execute_result"
    }
   ],
   "source": [
    "usCompany.isnull().sum()"
   ]
  },
  {
   "cell_type": "code",
   "execution_count": 38,
   "metadata": {},
   "outputs": [
    {
     "data": {
      "text/plain": [
       "count     528.000000\n",
       "mean     1992.700758\n",
       "std        33.853259\n",
       "min      1799.000000\n",
       "25%      1994.000000\n",
       "50%      2007.000000\n",
       "75%      2010.000000\n",
       "max      2015.000000\n",
       "Name: year_founded, dtype: float64"
      ]
     },
     "execution_count": 38,
     "metadata": {},
     "output_type": "execute_result"
    }
   ],
   "source": [
    "# shows year range\n",
    "usCompany.year_founded.describe()"
   ]
  },
  {
   "cell_type": "code",
   "execution_count": 39,
   "metadata": {},
   "outputs": [
    {
     "data": {
      "text/plain": [
       "<matplotlib.axes._subplots.AxesSubplot at 0x7fc9dc5b3f10>"
      ]
     },
     "execution_count": 39,
     "metadata": {},
     "output_type": "execute_result"
    },
    {
     "data": {
      "image/png": "[encoded data removed]",
      "text/plain": [
       "<Figure size 432x288 with 1 Axes>"
      ]
     },
     "metadata": {
      "needs_background": "light"
     },
     "output_type": "display_data"
    }
   ],
   "source": [
    "# want to see how many companies have been founded last 15 years year by state\n",
    "df = usCompany[usCompany['year_founded']>=2000]\n",
    "df['year_founded'].groupby(df['state']).count().plot(kind='bar')"
   ]
  },
  {
   "cell_type": "code",
   "execution_count": 40,
   "metadata": {},
   "outputs": [
    {
     "data": {
      "text/plain": [
       "0                Data/Technology\n",
       "1           Finance & Investment\n",
       "2                Data/Technology\n",
       "8      Business & Legal Services\n",
       "9                Data/Technology\n",
       "                 ...            \n",
       "523           Geospatial/Mapping\n",
       "524          Housing/Real Estate\n",
       "525                   Healthcare\n",
       "526          Housing/Real Estate\n",
       "527          Housing/Real Estate\n",
       "Name: company_category, Length: 361, dtype: object"
      ]
     },
     "execution_count": 40,
     "metadata": {},
     "output_type": "execute_result"
    }
   ],
   "source": [
    "# shows categories of company \n",
    "df['company_category']\n"
   ]
  },
  {
   "cell_type": "markdown",
   "metadata": {},
   "source": [
    "The graph shows that California has the most newly founded company in last 10 years followed by New York"
   ]
  },
  {
   "cell_type": "code",
   "execution_count": null,
   "metadata": {},
   "outputs": [
    {
     "data": {
      "text/plain": [
       "<matplotlib.axes._subplots.AxesSubplot at 0x7fc9dc4f95e0>"
      ]
     },
     "execution_count": 41,
     "metadata": {},
     "output_type": "execute_result"
    }
   ],
   "source": [
    "# What kind of companies has been founded in last 15 years\n",
    "df['full_time_employees'].groupby(df['company_category']).count().plot(kind='bar')"
   ]
  },
  {
   "cell_type": "code",
   "execution_count": null,
   "metadata": {},
   "outputs": [],
   "source": [
    "# Want to see which state has highest raise in  Data/Technology  in last 15 years\n",
    "df[df['company_category'] == 'Data/Technology'].groupby(['state','company_category'])['city'].count().plot(kind='bar')\n",
    "plt.show()"
   ]
  },
  {
   "cell_type": "code",
   "execution_count": null,
   "metadata": {},
   "outputs": [],
   "source": []
  }
 ],
 "metadata": {
  "kernelspec": {
   "display_name": "Python 3",
   "language": "python",
   "name": "python3"
  },
  "language_info": {
   "codemirror_mode": {
    "name": "ipython",
    "version": 3
   },
   "file_extension": ".py",
   "mimetype": "text/x-python",
   "name": "python",
   "nbconvert_exporter": "python",
   "pygments_lexer": "ipython3",
   "version": "3.8.3"
  }
 },
 "nbformat": 4,
 "nbformat_minor": 4
}
