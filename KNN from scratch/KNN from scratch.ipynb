{
 "cells": [
  {
   "cell_type": "markdown",
   "metadata": {},
   "source": [
    "# HW3\n",
    "# CSC 635\n"
   ]
  },
  {
   "cell_type": "code",
   "execution_count": 1,
   "metadata": {},
   "outputs": [
    {
     "data": {
      "text/plain": [
       "'\\nhw3\\nAuthor: Rafail Islam\\nCSC 635\\n'"
      ]
     },
     "execution_count": 1,
     "metadata": {},
     "output_type": "execute_result"
    }
   ],
   "source": [
    "\"\"\"\n",
    "hw3\n",
    "Author: Rafail Islam\n",
    "CSC 635\n",
    "\"\"\""
   ]
  },
  {
   "cell_type": "code",
   "execution_count": 1,
   "metadata": {},
   "outputs": [],
   "source": [
    "#-----------------------------------import--------------------------------\n",
    "import numpy as np\n",
    "import pandas as pd\n",
    "import matplotlib.pyplot as plt\n",
    "from sklearn.metrics import accuracy_score\n",
    "from random import sample"
   ]
  },
  {
   "cell_type": "code",
   "execution_count": 2,
   "metadata": {
    "scrolled": false
   },
   "outputs": [],
   "source": [
    "#----------------------------------global variables------------------------\n",
    "# Load data\n",
    "train_data = pd.read_csv(\"MNIST_train.csv\")\n",
    "test_data = pd.read_csv('MNIST_test.csv')"
   ]
  },
  {
   "cell_type": "code",
   "execution_count": 3,
   "metadata": {},
   "outputs": [
    {
     "name": "stdout",
     "output_type": "stream",
     "text": [
      "(50, 785)\n"
     ]
    }
   ],
   "source": [
    "# convert to numpy\n",
    "train = train_data.to_numpy()\n",
    "test  = test_data.to_numpy()\n",
    "#print(train.dtype)\n",
    "print(test.shape)"
   ]
  },
  {
   "cell_type": "code",
   "execution_count": 4,
   "metadata": {},
   "outputs": [
    {
     "data": {
      "text/plain": [
       "array([[ 0,  5,  4],\n",
       "       [ 0,  5,  2],\n",
       "       [ 0,  8,  4],\n",
       "       [ 0,  8,  5],\n",
       "       [ 0,  8,  7],\n",
       "       [ 0,  9,  5],\n",
       "       [ 1,  3,  8],\n",
       "       [ 1,  3, 10],\n",
       "       [ 1,  4, 12],\n",
       "       [ 1,  6,  9],\n",
       "       [ 1,  6, 11],\n",
       "       [ 1,  9, 10]])"
      ]
     },
     "execution_count": 4,
     "metadata": {},
     "output_type": "execute_result"
    }
   ],
   "source": [
    "# my test data \n",
    "td = [[0,5,4],[0,5,2],[0,8,4],[0,8,5],[0,8,7],[0,9,5],\n",
    "      [1,3,8],[1,3,10],[1,4,12],[1,6,9],[1,6,11],[1,9,10]]\n",
    "td1 = np.array(td)\n",
    "td1"
   ]
  },
  {
   "cell_type": "code",
   "execution_count": 5,
   "metadata": {},
   "outputs": [],
   "source": [
    "#-------------------------------Functions--------------------------------------\n",
    "\n",
    "# Evaluating distance between two tuples\n",
    "def get_distance(D,t, p = 2):\n",
    "    \"\"\" This function determine distace between two vectors\n",
    "    \n",
    "    Parameters:\n",
    "    --------------\n",
    "    D : 1D array/list\n",
    "        input vector in train dataset\n",
    "    t : 1D array/list\n",
    "        input vector in test dataset\n",
    "    p : int (default=2, 2 for euclidean, 1 for manhattan )\n",
    "        type of distance \n",
    "    \n",
    "    Returns:\n",
    "    --------------\n",
    "    distance : float32\n",
    "        distance between two input vectors\n",
    "    \n",
    "    \"\"\"\n",
    "    # initialize distance\n",
    "    distance = 0.\n",
    "    \n",
    "    for x in range(len(D)-1):\n",
    "        distance += (abs(D[x+1]-t[x]))**p\n",
    "    distance = distance **(1/p)\n",
    "    \n",
    "    return distance"
   ]
  },
  {
   "cell_type": "code",
   "execution_count": 6,
   "metadata": {},
   "outputs": [
    {
     "name": "stdout",
     "output_type": "stream",
     "text": [
      "(1, 1)\n"
     ]
    }
   ],
   "source": [
    "# Build KNN \n",
    "def knn(D,t,k):\n",
    "    \"\"\" this function preditcs the class of a test sample by K-nearest Neighbours algorithm\n",
    "    \n",
    "    Parametes:\n",
    "    -------------\n",
    "    D : 2D numpy arrays\n",
    "        training data set\n",
    "    t : 1D array/list\n",
    "        single test sample\n",
    "    k : int\n",
    "        number of nearest neighbours\n",
    "    \n",
    "    Returns\n",
    "    -------------\n",
    "    label_by_voting : class type\n",
    "        predicted class label by uniform voting\n",
    "    label_by_weight_voting: class type\n",
    "        predicted class label by weighted voting\n",
    "    \n",
    "    \"\"\"\n",
    "    # empty list for tuples\n",
    "    N = []\n",
    "    # list for storing best distances\n",
    "    dist = []\n",
    "    \n",
    "    # for each data in data set\n",
    "    for d in D:\n",
    "        \n",
    "        # get distance\n",
    "        distance = get_distance(d,t)\n",
    "        \n",
    "        # append the label of the data in neighbour list\n",
    "        if len(N) < k:\n",
    "            N.append(d[0]) \n",
    "            dist.append(distance)\n",
    "        elif distance < np.max(dist):\n",
    "            \n",
    "            dist.remove(np.max(dist))\n",
    "            N.pop(np.argmax(dist))\n",
    "            dist.append(distance)\n",
    "            N.append(d[0])\n",
    "    \n",
    "    # I did both uniform count voting and weight voting to see the progress\n",
    "    \n",
    "    #--------count vote--------- \n",
    "    #print(N)\n",
    "    #print(dist)\n",
    "    label_by_voting =  max(set(N),key=N.count)\n",
    "    \n",
    "    #--------count weighted vote------\n",
    "    label_dic = {}\n",
    "    \n",
    "    # get all unique class from the taining data set and make a dictionary\n",
    "    # where key is the class and value is weighted vote. Values are set to 0.0 initially.\n",
    "    for x in D[:,0]:\n",
    "        label_dic[x]=0.0\n",
    "    #print(label_dic)\n",
    "    \n",
    "    # calculate distance weighted voting\n",
    "    for i in range(k):\n",
    "        label_dic[N[i]] += 1/dist[i]**2\n",
    "        \n",
    "    #print(label_dic)\n",
    "    \n",
    "    # get key with maximum weighted voting\n",
    "    label_by_weight_voting = max(label_dic,key=label_dic.get)\n",
    "    \n",
    "    return label_by_voting,  label_by_weight_voting\n",
    "\n",
    "t = np.array([2,7])\n",
    "print(knn(td1,t,4))"
   ]
  },
  {
   "cell_type": "code",
   "execution_count": 7,
   "metadata": {},
   "outputs": [],
   "source": [
    "# Accuracy function for derterming accuracy\n",
    "\n",
    "def classify(train,test,k):\n",
    "    \"\"\" This function calculate accuracy of all test data over given train data set.\n",
    "    \n",
    "    Parameters\n",
    "    ------------\n",
    "    train : 2D numpy arrays\n",
    "        training data set\n",
    "    test : 2D array/list\n",
    "        test data set\n",
    "    k : int\n",
    "        number of nearest neighbours\n",
    "    Returns\n",
    "    ------------\n",
    "    accuracy_voting : float\n",
    "        accuracy by uniform voting\n",
    "    accuracy_weight_voting : float\n",
    "        accuracy by distace weight voting\n",
    "    \"\"\"\n",
    "    prd_voting = []\n",
    "    prd_weight_voting = []\n",
    "    \n",
    "    for t in test:\n",
    "        clss1, clss2= knn(train,t,k)\n",
    "        prd_voting.append(clss1)\n",
    "        prd_weight_voting.append(clss2)\n",
    "    \n",
    "    #print(\" vot : %.1f%%\" %(accuracy_score(test[:,0],np.asarray(prd_voting) )*100) )\n",
    "    #print(\" w_vot : %.1f%%\" %(accuracy_score(test[:,0],prd_weight_voting)*100) )\n",
    "    \n",
    "    # evaluate voting accuracy using accuracy_score metrics\n",
    "    accuracy_voting = accuracy_score(test[:,0],np.asarray(prd_voting) )\n",
    "    accuracy_weight_voting  =accuracy_score(test[:,0],prd_weight_voting)\n",
    "                                     \n",
    "    \n",
    "    return accuracy_voting , accuracy_weight_voting\n",
    "\n",
    "#classify(train,test,k=5)\n",
    "    "
   ]
  },
  {
   "cell_type": "code",
   "execution_count": 8,
   "metadata": {},
   "outputs": [],
   "source": [
    "# Find best value of k\n",
    "def bestK(train,test,kmin=2,kmax=10):\n",
    "    \"\"\" This function determine best value of k from the given range. \n",
    "    \n",
    "    Parameters\n",
    "    ------------\n",
    "    train : 2D array\n",
    "        tarin data set\n",
    "    test : 2D array\n",
    "        test data set\n",
    "    kmin : int (default: 2)\n",
    "        minimum value of k\n",
    "    kmax : int (default: 10)\n",
    "        maximum value of k\n",
    "    \n",
    "    Returns\n",
    "    ------------\n",
    "    best_k : int\n",
    "        best value of k\n",
    "    \n",
    "    \"\"\"\n",
    "    # dictionary for storing value of K as key and Accuracy of correspoing value of K as value\n",
    "    k_hist = {}\n",
    "    \n",
    "    for k in range(kmin,kmax+1):\n",
    "        #train_samples = sample(train, len(train)*0.4)\n",
    "        \n",
    "        # take random sample from train data set\n",
    "        # size of random sample = 30% of training data set\n",
    "        train_samples = train[np.random.choice(train.shape[0], int(len(train)*0.3), replace=False), :]\n",
    "        \n",
    "        _,acc = classify(train_samples,test,k)\n",
    "        k_hist[k] = acc\n",
    "    \n",
    "    # best value of k with maximum weight voting\n",
    "    best_k = max(k_hist,key=k_hist.get)\n",
    "    \n",
    "    # Plot k VS accuracy\n",
    "    lists = sorted(k_hist.items())\n",
    "    x,y = zip(*lists)\n",
    "    #print(x,y)\n",
    "    plt.plot(x,y)\n",
    "    plt.xlabel(\"Value of K\")\n",
    "    plt.ylabel(\"Accuracy with random sample\")\n",
    "    plt.title(\"K vs. Accuracy\")\n",
    "    plt.show()\n",
    "    \n",
    "    return best_k\n",
    "#bestK(train,test)\n",
    "        "
   ]
  },
  {
   "cell_type": "code",
   "execution_count": 9,
   "metadata": {},
   "outputs": [
    {
     "data": {
      "image/png": "[encoded data removed]",
      "text/plain": [
       "<Figure size 432x288 with 1 Axes>"
      ]
     },
     "metadata": {
      "needs_background": "light"
     },
     "output_type": "display_data"
    },
    {
     "name": "stdout",
     "output_type": "stream",
     "text": [
      "K = 6\n",
      "Desired class:  0  computed class:  0\n",
      "Desired class:  0  computed class:  0\n",
      "Desired class:  0  computed class:  0\n",
      "Desired class:  0  computed class:  0\n",
      "Desired class:  0  computed class:  0\n",
      "Desired class:  1  computed class:  1\n",
      "Desired class:  1  computed class:  1\n",
      "Desired class:  1  computed class:  1\n",
      "Desired class:  1  computed class:  1\n",
      "Desired class:  1  computed class:  1\n",
      "Desired class:  2  computed class:  8\n",
      "Desired class:  2  computed class:  2\n",
      "Desired class:  2  computed class:  7\n",
      "Desired class:  2  computed class:  6\n",
      "Desired class:  2  computed class:  2\n",
      "Desired class:  3  computed class:  3\n",
      "Desired class:  3  computed class:  3\n",
      "Desired class:  3  computed class:  3\n",
      "Desired class:  3  computed class:  3\n",
      "Desired class:  3  computed class:  3\n",
      "Desired class:  4  computed class:  2\n",
      "Desired class:  4  computed class:  6\n",
      "Desired class:  4  computed class:  4\n",
      "Desired class:  4  computed class:  4\n",
      "Desired class:  4  computed class:  4\n",
      "Desired class:  5  computed class:  5\n",
      "Desired class:  5  computed class:  6\n",
      "Desired class:  5  computed class:  5\n",
      "Desired class:  5  computed class:  5\n",
      "Desired class:  5  computed class:  5\n",
      "Desired class:  6  computed class:  6\n",
      "Desired class:  6  computed class:  6\n",
      "Desired class:  6  computed class:  6\n",
      "Desired class:  6  computed class:  6\n",
      "Desired class:  6  computed class:  6\n",
      "Desired class:  7  computed class:  7\n",
      "Desired class:  7  computed class:  7\n",
      "Desired class:  7  computed class:  7\n",
      "Desired class:  7  computed class:  7\n",
      "Desired class:  7  computed class:  7\n",
      "Desired class:  8  computed class:  8\n",
      "Desired class:  8  computed class:  8\n",
      "Desired class:  8  computed class:  8\n",
      "Desired class:  8  computed class:  3\n",
      "Desired class:  8  computed class:  8\n",
      "Desired class:  9  computed class:  9\n",
      "Desired class:  9  computed class:  9\n",
      "Desired class:  9  computed class:  9\n",
      "Desired class:  9  computed class:  9\n",
      "Desired class:  9  computed class:  9\n",
      "Accuracy rate: 86.0%\n",
      "Number of misclassified test samples:  7\n",
      "Total number of test samples:  50\n"
     ]
    }
   ],
   "source": [
    "# Main function to call all the necessary functions\n",
    "def main():\n",
    "    \n",
    "      \n",
    "    # finding best value of k\n",
    "    # Note: uncomment the line below to find best value of k. But I am not sure. If this is optimal. Dr. Saquer\n",
    "    # said that you may use random sample to find best value of k. However, It does not give same value of K \n",
    "    # all the time as it is randomized.\n",
    "    \n",
    "    k = bestK(train,test)\n",
    "    \n",
    "    # I found k=5 works better in this case. We can use K=5 to get maximum accuracy.\n",
    "    #k = 5\n",
    "    print(\"K =\",k)\n",
    "    \n",
    "    missClassified = 0\n",
    "    \n",
    "    for t in test:\n",
    "        clss1, clss2 = knn(train,t,k)\n",
    "        \n",
    "        print(\"Desired class: \",t[0],\" computed class: \",clss2)\n",
    "        \n",
    "        if t[0] != clss2 :\n",
    "            missClassified += 1\n",
    "            #print(\"Desired class: \",t[0],\" computed class: \",clss2)\n",
    "            \n",
    "    accuracy = ( 1 -  missClassified/len(test) ) * 100\n",
    "    \n",
    "    print(\"Accuracy rate: %.1f%%\" %accuracy)\n",
    "    print(\"Number of misclassified test samples: \", missClassified)\n",
    "    print(\"Total number of test samples: \",len(test))\n",
    "main()\n",
    "\n",
    "#---------------------------------------End of Functions----------------------------------------------"
   ]
  },
  {
   "cell_type": "code",
   "execution_count": null,
   "metadata": {},
   "outputs": [],
   "source": []
  },
  {
   "cell_type": "code",
   "execution_count": null,
   "metadata": {},
   "outputs": [],
   "source": []
  }
 ],
 "metadata": {
  "kernelspec": {
   "display_name": "Python 3",
   "language": "python",
   "name": "python3"
  },
  "language_info": {
   "codemirror_mode": {
    "name": "ipython",
    "version": 3
   },
   "file_extension": ".py",
   "mimetype": "text/x-python",
   "name": "python",
   "nbconvert_exporter": "python",
   "pygments_lexer": "ipython3",
   "version": "3.7.6"
  }
 },
 "nbformat": 4,
 "nbformat_minor": 4
}
